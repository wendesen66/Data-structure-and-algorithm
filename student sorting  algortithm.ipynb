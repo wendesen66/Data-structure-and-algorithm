{
 "cells": [
  {
   "cell_type": "markdown",
   "id": "e34e96f6",
   "metadata": {},
   "source": [
    " **Name : Wendesen kebede**,\n",
    "   **ID : 1601710**,\n",
    "     **Department:computor science**,\n",
    "     Github address:https://github.com/wendesen66 "
   ]
  },
  {
   "cell_type": "markdown",
   "id": "7dba5e15",
   "metadata": {},
   "source": [
    "**Student Data**"
   ]
  },
  {
   "cell_type": "code",
   "execution_count": 16,
   "metadata": {},
   "outputs": [],
   "source": [
    "# Sample Student List\n",
    "Students = [\n",
    "    {'id':'DBU1601710', 'name': 'Dawit',  'dept': 'DS', 'cgpa': 3.34},\n",
    "    {'id':'DBU1601608', 'name': 'Abrham', 'dept': 'CS', 'cgpa': 4.00},\n",
    "    {'id':'DBU1601001', 'name': 'Abush',  'dept': 'DS', 'cgpa': 2.74},\n",
    "    {'id':'DBU1601500', 'name': 'Rahel',  'dept': 'CS', 'cgpa': 3.96},\n",
    "    {'id':'DBU1601108', 'name': 'Mekdi',  'dept': 'SE', 'cgpa': 3.67},\n",
    "    {'id':'DBU1601606', 'name': 'Fantu',  'dept': 'CS', 'cgpa': 3.89},\n",
    "    {'id':'DBU1601709', 'name': 'Almaz',  'dept': 'DS', 'cgpa': 2.91},\n",
    "    {'id':'DBU1601304', 'name': 'tsega',  'dept': 'CS', 'cgpa': 3.66},\n",
    "    {'id':'DBU1601010', 'name': 'kidus',  'dept': 'SE', 'cgpa': 2.95},\n",
    "    {'id':'DBU1609007', 'name': 'Hiwot',  'dept': 'CS', 'cgpa': 4.00}\n",
    "]\n"
   ]
  },
  {
   "cell_type": "markdown",
   "id": "93e696f9",
   "metadata": {},
   "source": [
    "**Bubble Sort by ID**"
   ]
  },
  {
   "cell_type": "code",
   "execution_count": 17,
   "id": "1917d4c4",
   "metadata": {},
   "outputs": [
    {
     "name": "stdout",
     "output_type": "stream",
     "text": [
      "\n",
      " Students Sorted by ID (Bubble Sort):\n",
      "{'id': 'DBU1601001', 'name': 'Abush', 'dept': 'DS', 'cgpa': 2.74}\n",
      "{'id': 'DBU1601010', 'name': 'kidus', 'dept': 'SE', 'cgpa': 2.95}\n",
      "{'id': 'DBU1601108', 'name': 'Mekdi', 'dept': 'SE', 'cgpa': 3.67}\n",
      "{'id': 'DBU1601304', 'name': 'tsega', 'dept': 'CS', 'cgpa': 3.66}\n",
      "{'id': 'DBU1601500', 'name': 'Rahel', 'dept': 'CS', 'cgpa': 3.96}\n",
      "{'id': 'DBU1601606', 'name': 'Fantu', 'dept': 'CS', 'cgpa': 3.89}\n",
      "{'id': 'DBU1601608', 'name': 'Abrham', 'dept': 'CS', 'cgpa': 4.0}\n",
      "{'id': 'DBU1601709', 'name': 'Almaz', 'dept': 'DS', 'cgpa': 2.91}\n",
      "{'id': 'DBU1601710', 'name': 'Dawit', 'dept': 'DS', 'cgpa': 3.34}\n",
      "{'id': 'DBU1609007', 'name': 'Hiwot', 'dept': 'CS', 'cgpa': 4.0}\n"
     ]
    }
   ],
   "source": [
    "students_by_id = Students.copy()\n",
    "n = len(students_by_id)\n",
    "\n",
    "for i in range(n):\n",
    "    for j in range(0, n-i-1):\n",
    "        if students_by_id[j]['id'] > students_by_id[j+1]['id']:\n",
    "            students_by_id[j], students_by_id[j+1] = students_by_id[j+1], students_by_id[j]\n",
    "\n",
    "print(\"\\n Students Sorted by ID (Bubble Sort):\")\n",
    "for s in students_by_id:\n",
    "    print(s)\n"
   ]
  },
  {
   "cell_type": "markdown",
   "id": "73b3923d",
   "metadata": {},
   "source": [
    "**Insertion Sort by Name**\n",
    "\n"
   ]
  },
  {
   "cell_type": "code",
   "execution_count": 18,
   "id": "259f0a24",
   "metadata": {},
   "outputs": [
    {
     "name": "stdout",
     "output_type": "stream",
     "text": [
      "\n",
      " Students Sorted by Name (Insertion Sort):\n",
      "{'id': 'DBU1601608', 'name': 'Abrham', 'dept': 'CS', 'cgpa': 4.0}\n",
      "{'id': 'DBU1601001', 'name': 'Abush', 'dept': 'DS', 'cgpa': 2.74}\n",
      "{'id': 'DBU1601709', 'name': 'Almaz', 'dept': 'DS', 'cgpa': 2.91}\n",
      "{'id': 'DBU1601710', 'name': 'Dawit', 'dept': 'DS', 'cgpa': 3.34}\n",
      "{'id': 'DBU1601606', 'name': 'Fantu', 'dept': 'CS', 'cgpa': 3.89}\n",
      "{'id': 'DBU1609007', 'name': 'Hiwot', 'dept': 'CS', 'cgpa': 4.0}\n",
      "{'id': 'DBU1601010', 'name': 'kidus', 'dept': 'SE', 'cgpa': 2.95}\n",
      "{'id': 'DBU1601108', 'name': 'Mekdi', 'dept': 'SE', 'cgpa': 3.67}\n",
      "{'id': 'DBU1601500', 'name': 'Rahel', 'dept': 'CS', 'cgpa': 3.96}\n",
      "{'id': 'DBU1601304', 'name': 'tsega', 'dept': 'CS', 'cgpa': 3.66}\n"
     ]
    }
   ],
   "source": [
    "students_by_name = Students.copy()\n",
    "n = len(students_by_name)\n",
    "\n",
    "for i in range(1, n):\n",
    "    key = students_by_name[i]\n",
    "    j = i - 1\n",
    "    while j >= 0 and key['name'].lower() < students_by_name[j]['name'].lower():\n",
    "        students_by_name[j + 1] = students_by_name[j]\n",
    "        j -= 1\n",
    "    students_by_name[j + 1] = key\n",
    "\n",
    "print(\"\\n Students Sorted by Name (Insertion Sort):\")\n",
    "for s in students_by_name:\n",
    "    print(s)\n"
   ]
  },
  {
   "cell_type": "markdown",
   "id": "a0effd3a",
   "metadata": {},
   "source": [
    "**Selection Sort by CGPA (Descending)**\n"
   ]
  },
  {
   "cell_type": "code",
   "execution_count": 19,
   "id": "caa40e27",
   "metadata": {},
   "outputs": [
    {
     "name": "stdout",
     "output_type": "stream",
     "text": [
      "\n",
      " Students Sorted by CGPA (Selection Sort - Descending):\n",
      "{'id': 'DBU1601608', 'name': 'Abrham', 'dept': 'CS', 'cgpa': 4.0}\n",
      "{'id': 'DBU1609007', 'name': 'Hiwot', 'dept': 'CS', 'cgpa': 4.0}\n",
      "{'id': 'DBU1601500', 'name': 'Rahel', 'dept': 'CS', 'cgpa': 3.96}\n",
      "{'id': 'DBU1601606', 'name': 'Fantu', 'dept': 'CS', 'cgpa': 3.89}\n",
      "{'id': 'DBU1601108', 'name': 'Mekdi', 'dept': 'SE', 'cgpa': 3.67}\n",
      "{'id': 'DBU1601304', 'name': 'tsega', 'dept': 'CS', 'cgpa': 3.66}\n",
      "{'id': 'DBU1601710', 'name': 'Dawit', 'dept': 'DS', 'cgpa': 3.34}\n",
      "{'id': 'DBU1601010', 'name': 'kidus', 'dept': 'SE', 'cgpa': 2.95}\n",
      "{'id': 'DBU1601709', 'name': 'Almaz', 'dept': 'DS', 'cgpa': 2.91}\n",
      "{'id': 'DBU1601001', 'name': 'Abush', 'dept': 'DS', 'cgpa': 2.74}\n"
     ]
    }
   ],
   "source": [
    "students_by_cgpa = Students.copy()\n",
    "n = len(students_by_cgpa)\n",
    "\n",
    "for i in range(n):\n",
    "    max_idx = i\n",
    "    for j in range(i+1, n):\n",
    "        if students_by_cgpa[j]['cgpa'] > students_by_cgpa[max_idx]['cgpa']:\n",
    "            max_idx = j\n",
    "    students_by_cgpa[i], students_by_cgpa[max_idx] = students_by_cgpa[max_idx], students_by_cgpa[i]\n",
    "\n",
    "print(\"\\n Students Sorted by CGPA (Selection Sort - Descending):\")\n",
    "for s in students_by_cgpa:\n",
    "    print(s)\n"
   ]
  },
  {
   "cell_type": "markdown",
   "id": "9f445aff",
   "metadata": {},
   "source": [
    "**1. Bubble Sort (By ID)**\n",
    "\n",
    "\n",
    "**Time Complexity**\n",
    "\n",
    "Best Case: O(n)\n",
    "\n",
    "This occurs when the list is already sorted, and no swaps are needed. The algorithm will make one pass through the list to check if it's sorted.\n",
    "\n",
    "Average Case: O(n²)\n",
    "\n",
    "This is the typical case where elements are randomly ordered. The algorithm needs to compare each element with the others, resulting in n² comparisons.\n",
    "\n",
    "Worst Case: O(n²)\n",
    "\n",
    "This occurs when the list is sorted in reverse order. The algorithm needs to perform the maximum number of swaps and comparisons, which results in n² operations.\n",
    "\n",
    "Space Complexity: O(1)\n",
    "\n",
    "Bubble Sort is an in-place sorting algorithm, meaning it only requires a constant amount of additional memory.\n",
    "\n",
    "**Advantages**\n",
    "Simple: Bubble sort is very easy to understand and implement.\n",
    "\n",
    "Stable: Bubble Sort maintains the relative order of equal elements.\n",
    "\n",
    "Best Case Optimization: If the list is already sorted, the algorithm runs in O(n) time (though this requires an additional check to optimize the implementation).\n",
    "\n",
    "**Disadvantages**\n",
    "Inefficient for Large Data: It has a time complexity of O(n²) in both the average and worst cases, which makes it inefficient for large datasets.\n",
    "\n",
    "Many Comparisons: It performs a lot of unnecessary comparisons, even if the list is partially sorted, which leads to slow performance in practical use cases.\n",
    "\n",
    "**2. Insertion Sort (By Name)**\n",
    "\n",
    "\n",
    "**Time Complexity**\n",
    "\n",
    "\n",
    "Best Case: O(n)\n",
    "\n",
    "The best case occurs when the list is already sorted or nearly sorted. The algorithm only needs to make a single pass through the list, shifting elements as needed.\n",
    "\n",
    "Average Case: O(n²)\n",
    "\n",
    "This happens when the list is unordered. The algorithm has to move each element to its correct position by shifting elements to the right, requiring n² comparisons and shifts in the average case.\n",
    "\n",
    "Worst Case: O(n²)\n",
    "\n",
    "This happens when the list is sorted in reverse order. Each element has to be moved all the way to the start of the list, which results in the maximum number of shifts and comparisons.\n",
    "\n",
    "Space Complexity: O(1)\n",
    "\n",
    "Like Bubble Sort, Insertion Sort is an in-place algorithm that only uses a constant amount of extra space for storing the current element while sorting.\n",
    "\n",
    "**Advantages**\n",
    "Efficient for Small Data: Insertion sort is highly efficient for small datasets and partially sorted data.\n",
    "\n",
    "Stable: It preserves the order of equal elements in the list.\n",
    "\n",
    "Adaptive: It performs well when the list is already partially sorted (best case O(n)).\n",
    "\n",
    "**Disadvantages**\n",
    "Inefficient for Large Data: With a time complexity of O(n²) in the average and worst cases, Insertion Sort becomes inefficient for large datasets.\n",
    "\n",
    "More Shifts: While comparisons are few in the best case, the algorithm still requires shifting elements to their correct positions, which can be time-consuming for large datasets.\n",
    "\n",
    "**3. Selection Sort (By CGPA in Descending Order)**\n",
    "\n",
    "**Time Complexity**\n",
    "\n",
    "Best Case: O(n²)\n",
    "\n",
    "Selection sort always performs a fixed number of comparisons regardless of the input data. Even in the best case (when the list is already sorted), the algorithm performs the same number of comparisons.\n",
    "\n",
    "Average Case: O(n²)\n",
    "\n",
    "The algorithm still performs a quadratic number of comparisons in the average case, as it needs to find the minimum (or maximum) element and swap it.\n",
    "\n",
    "Worst Case: O(n²)\n",
    "\n",
    "Like the average case, the worst-case time complexity remains O(n²) since the number of comparisons is always the same.\n",
    "\n",
    "Space Complexity: O(1)\n",
    "\n",
    "Selection sort is also an in-place sorting algorithm, meaning it doesn't require any extra memory other than the input list itself.\n",
    "\n",
    "**Advantages**\n",
    "Simple to Implement: Selection sort is very easy to understand and implement.\n",
    "\n",
    "In-place Sorting: It doesn’t require additional memory space apart from the input list.\n",
    "\n",
    "Less Memory Usage: Since no extra memory is needed, it's space-efficient.\n",
    "\n",
    "**Disadvantages**\n",
    "Inefficient for Large Data: With a time complexity of O(n²) in all cases, Selection Sort is inefficient for large datasets.\n",
    "\n",
    "Not Stable: Unlike Bubble Sort and Insertion Sort, Selection Sort is not stable, meaning it doesn't preserve the relative order of equal elements.\n",
    "\n",
    "Many Comparisons: Even when the list is already sorted, it performs unnecessary comparisons, which makes it less efficient compared to more advanced algorithms.\n",
    "\n"
   ]
  }
 ],
 "metadata": {
  "kernelspec": {
   "display_name": "Python 3",
   "language": "python",
   "name": "python3"
  },
  "language_info": {
   "codemirror_mode": {
    "name": "ipython",
    "version": 3
   },
   "file_extension": ".py",
   "mimetype": "text/x-python",
   "name": "python",
   "nbconvert_exporter": "python",
   "pygments_lexer": "ipython3",
   "version": "3.13.0"
  }
 },
 "nbformat": 4,
 "nbformat_minor": 5
}
