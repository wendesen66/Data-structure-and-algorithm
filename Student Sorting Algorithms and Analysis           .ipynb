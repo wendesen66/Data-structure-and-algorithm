{
 "cells": [
  {
   "cell_type": "markdown",
   "id": "9e1ab43e",
   "metadata": {},
   "source": [
    "**Name: Sintayehu Gezahegn**,\n",
    "**ID:   1601617**,\n",
    "**Department: Computer Science**,\n",
    "**Github address:** https://github.com/Sintayehugezahegn"
   ]
  },
  {
   "cell_type": "markdown",
   "id": "7318eecf",
   "metadata": {},
   "source": [
    "**Student Profiles Data**\n"
   ]
  },
  {
   "cell_type": "code",
   "execution_count": null,
   "id": "06ec0b4f",
   "metadata": {},
   "outputs": [],
   "source": [
    "Students = [\n",
    "    {'id': 'DBU16016',  'name': 'Sinte',  'dept': 'DS', 'cgpa': 3.87},\n",
    "    {'id': 'DBU16017',  'name': 'Wende',  'dept': 'CS', 'cgpa': 3.96},\n",
    "    {'id': 'DBU16001',  'name': 'Hlina',  'dept': 'DS', 'cgpa': 1.92},\n",
    "    {'id': 'DBU16056',  'name': 'Kidst',  'dept': 'CS', 'cgpa': 3.94},\n",
    "    {'id': 'DBU16018',  'name': 'Zewdu',  'dept': 'SE', 'cgpa': 1.58},\n",
    "    {'id': 'DBU16027',  'name': 'Abera',  'dept': 'IT', 'cgpa': 2.98},\n",
    "    {'id': 'DBU16032',  'name': 'Hanna',  'dept': 'CS', 'cgpa': 3.67},\n",
    "    {'id': 'DBU16067',  'name': 'Peter',  'dept': 'DS', 'cgpa': 2.89},\n",
    "    {'id': 'DBU16082',  'name': 'Aster',  'dept': 'SE', 'cgpa': 3.85},\n",
    "    {'id': 'DBU16099',  'name': 'Yonas',  'dept': 'IT', 'cgpa': 3.22}\n",
    "]\n"
   ]
  },
  {
   "cell_type": "markdown",
   "id": "99028245",
   "metadata": {},
   "source": [
    "\n",
    "\n",
    "**1. Bubble Sort by ID**\n",
    "\n",
    "\n"
   ]
  },
  {
   "cell_type": "code",
   "execution_count": null,
   "id": "0f3ab14a",
   "metadata": {},
   "outputs": [
    {
     "name": "stdout",
     "output_type": "stream",
     "text": [
      "Sorted by ID (Bubble Sort):\n",
      "{'id': 'DBU16001', 'name': 'Hlina', 'dept': 'DS', 'cgpa': 1.92}\n",
      "{'id': 'DBU16016', 'name': 'Sinte', 'dept': 'DS', 'cgpa': 3.87}\n",
      "{'id': 'DBU16017', 'name': 'Wende', 'dept': 'CS', 'cgpa': 3.96}\n",
      "{'id': 'DBU16018', 'name': 'Zewdu', 'dept': 'SE', 'cgpa': 1.58}\n",
      "{'id': 'DBU16027', 'name': 'Abera', 'dept': 'IT', 'cgpa': 2.98}\n",
      "{'id': 'DBU16032', 'name': 'Hanna', 'dept': 'CS', 'cgpa': 3.67}\n",
      "{'id': 'DBU16056', 'name': 'Kidst', 'dept': 'CS', 'cgpa': 3.94}\n",
      "{'id': 'DBU16067', 'name': 'Peter', 'dept': 'DS', 'cgpa': 2.89}\n",
      "{'id': 'DBU16082', 'name': 'Aster', 'dept': 'SE', 'cgpa': 3.85}\n",
      "{'id': 'DBU16099', 'name': 'Yonas', 'dept': 'IT', 'cgpa': 3.22}\n"
     ]
    }
   ],
   "source": [
    "def bubble_sort_by_id(student_list):\n",
    "    n = len(student_list)\n",
    "    for i in range(n):\n",
    "        for j in range(0, n-i-1):\n",
    "            if student_list[j]['id'] > student_list[j+1]['id']:\n",
    "                student_list[j], student_list[j+1] = student_list[j+1], student_list[j]\n",
    "    return student_list\n",
    "\n",
    "# Test Bubble Sort\n",
    "sorted_by_id = bubble_sort_by_id(Students.copy())\n",
    "print(\"Sorted by ID (Bubble Sort):\")\n",
    "for student in sorted_by_id:\n",
    "    print(student)\n"
   ]
  },
  {
   "cell_type": "markdown",
   "id": "58c0df08",
   "metadata": {},
   "source": [
    " **2. Insertion Sort by Name**"
   ]
  },
  {
   "cell_type": "code",
   "execution_count": null,
   "id": "8bbc8627",
   "metadata": {},
   "outputs": [
    {
     "name": "stdout",
     "output_type": "stream",
     "text": [
      "\n",
      "Sorted by Name (Insertion Sort):\n",
      "{'id': 'DBU16027', 'name': 'Abera', 'dept': 'IT', 'cgpa': 2.98}\n",
      "{'id': 'DBU16082', 'name': 'Aster', 'dept': 'SE', 'cgpa': 3.85}\n",
      "{'id': 'DBU16032', 'name': 'Hanna', 'dept': 'CS', 'cgpa': 3.67}\n",
      "{'id': 'DBU16001', 'name': 'Hlina', 'dept': 'DS', 'cgpa': 1.92}\n",
      "{'id': 'DBU16056', 'name': 'Kidst', 'dept': 'CS', 'cgpa': 3.94}\n",
      "{'id': 'DBU16067', 'name': 'Peter', 'dept': 'DS', 'cgpa': 2.89}\n",
      "{'id': 'DBU16016', 'name': 'Sinte', 'dept': 'DS', 'cgpa': 3.87}\n",
      "{'id': 'DBU16017', 'name': 'Wende', 'dept': 'CS', 'cgpa': 3.96}\n",
      "{'id': 'DBU16099', 'name': 'Yonas', 'dept': 'IT', 'cgpa': 3.22}\n",
      "{'id': 'DBU16018', 'name': 'Zewdu', 'dept': 'SE', 'cgpa': 1.58}\n"
     ]
    }
   ],
   "source": [
    "def insertion_sort_by_name(student_list):\n",
    "    for i in range(1, len(student_list)):\n",
    "        key = student_list[i]\n",
    "        j = i - 1\n",
    "        while j >= 0 and student_list[j]['name'].lower() > key['name'].lower():\n",
    "            student_list[j + 1] = student_list[j]\n",
    "            j -= 1\n",
    "        student_list[j + 1] = key\n",
    "    return student_list\n",
    "\n",
    "# Test Insertion Sort\n",
    "sorted_by_name = insertion_sort_by_name(Students.copy())\n",
    "print(\"\\nSorted by Name (Insertion Sort):\")\n",
    "for student in sorted_by_name:\n",
    "    print(student)\n"
   ]
  },
  {
   "cell_type": "markdown",
   "id": "ab5a27d9",
   "metadata": {},
   "source": [
    "**3. Selection Sort by CGPA (Descending)**"
   ]
  },
  {
   "cell_type": "code",
   "execution_count": null,
   "id": "8e51d2a6",
   "metadata": {},
   "outputs": [
    {
     "name": "stdout",
     "output_type": "stream",
     "text": [
      "\n",
      "Sorted by CGPA Descending (Selection Sort):\n",
      "{'id': 'DBU16017', 'name': 'Wende', 'dept': 'CS', 'cgpa': 3.96}\n",
      "{'id': 'DBU16056', 'name': 'Kidst', 'dept': 'CS', 'cgpa': 3.94}\n",
      "{'id': 'DBU16016', 'name': 'Sinte', 'dept': 'DS', 'cgpa': 3.87}\n",
      "{'id': 'DBU16082', 'name': 'Aster', 'dept': 'SE', 'cgpa': 3.85}\n",
      "{'id': 'DBU16032', 'name': 'Hanna', 'dept': 'CS', 'cgpa': 3.67}\n",
      "{'id': 'DBU16099', 'name': 'Yonas', 'dept': 'IT', 'cgpa': 3.22}\n",
      "{'id': 'DBU16027', 'name': 'Abera', 'dept': 'IT', 'cgpa': 2.98}\n",
      "{'id': 'DBU16067', 'name': 'Peter', 'dept': 'DS', 'cgpa': 2.89}\n",
      "{'id': 'DBU16001', 'name': 'Hlina', 'dept': 'DS', 'cgpa': 1.92}\n",
      "{'id': 'DBU16018', 'name': 'Zewdu', 'dept': 'SE', 'cgpa': 1.58}\n"
     ]
    }
   ],
   "source": [
    "def selection_sort_by_cgpa(student_list):\n",
    "    n = len(student_list)\n",
    "    for i in range(n):\n",
    "        max_idx = i\n",
    "        for j in range(i+1, n):\n",
    "            if student_list[j]['cgpa'] > student_list[max_idx]['cgpa']:\n",
    "                max_idx = j\n",
    "        student_list[i], student_list[max_idx] = student_list[max_idx], student_list[i]\n",
    "    return student_list\n",
    "\n",
    "# Test Selection Sort\n",
    "sorted_by_cgpa = selection_sort_by_cgpa(Students.copy())\n",
    "print(\"\\nSorted by CGPA Descending (Selection Sort):\")\n",
    "for student in sorted_by_cgpa:\n",
    "    print(student)\n"
   ]
  },
  {
   "cell_type": "markdown",
   "id": "aadc57ac",
   "metadata": {},
   "source": [
    " **Performance and Algorithm Analysis**\n",
    "🔸                               **Bubble Sort**\n",
    "Performance: O(n²)\n",
    "\n",
    "Best Use Case: Small data sets.\n",
    "\n",
    "Advantages:\n",
    "\n",
    "Simple to implement.\n",
    "\n",
    "Disadvantages:\n",
    "\n",
    "Very inefficient for large lists.\n",
    "\n",
    "Many unnecessary comparisons.\n",
    "\n",
    "🔸 **Insertion Sort**\n",
    "Performance: O(n²), Best case O(n)\n",
    "\n",
    "Best Use Case: Nearly sorted or small lists.\n",
    "\n",
    "Advantages:\n",
    "\n",
    "Simple logic.\n",
    "\n",
    "Efficient for small or mostly sorted data.\n",
    "\n",
    "Disadvantages:\n",
    "\n",
    "Poor performance on large, random data.\n",
    "\n",
    "🔸 **Selection Sort**\n",
    "Performance: O(n²)\n",
    "\n",
    "Best Use Case: When memory writes are more expensive than reads.\n",
    "Advantages:\n",
    "\n",
    "Easy to implement.\n",
    "\n",
    "Disadvantages:\n",
    "\n",
    "Still inefficient for large datasets."
   ]
  },
  {
   "cell_type": "markdown",
   "id": "59601734",
   "metadata": {},
   "source": [
    "**more advantage and disadvantage**\n",
    " **1. Bubble Sort**\n",
    "✅ Advantages:\n",
    "Simplicity: Very easy to understand and implement for beginners.\n",
    "\n",
    "In-place algorithm: Requires no extra memory for another data structure.\n",
    "\n",
    "Good for small datasets: Works well for very small lists.\n",
    "\n",
    "❌ Disadvantages:\n",
    "Inefficient for large data: It makes many unnecessary comparisons and swaps, leading to poor performance (O(n²)).\n",
    "\n",
    "Unstable for dictionaries with complex data: If not implemented carefully, it may swap elements even when they are equal (can affect stable sorting).\n",
    "\n",
    "Not optimized: Even when the list is already sorted, it still performs all comparisons unless optimized with a break.\n",
    "\n",
    "🔸 **2. Insertion Sort**\n",
    "✅ Advantages:\n",
    "Efficient for nearly sorted data: Performs fewer comparisons in such cases (Best case: O(n)).\n",
    "\n",
    "Stable sort: Maintains the relative order of equal elements (important for dictionary data).\n",
    "\n",
    "Simple implementation: Logic is straightforward and easy to adapt to dictionary keys like 'name'.\n",
    "\n",
    "❌ Disadvantages:\n",
    "Poor for large, unsorted data: Still has O(n²) worst-case performance.\n",
    "\n",
    "Can be slow: When dealing with large lists of dictionary items with varying values, it may become inefficient.\n",
    "\n",
    "🔸 **3. Selection Sort**\n",
    "✅ Advantages:\n",
    "Fewer swaps: Makes at most n swaps (good when write operations are expensive).\n",
    "\n",
    "Works on all types of keys: Easy to use with dictionary values like CGPA, name, etc.\n",
    "\n",
    "Simple to implement: Especially easy when sorting by a single numeric field.\n",
    "\n",
    "❌ Disadvantages:\n",
    "Not stable: May reorder equal elements, which can be a problem in multi-key sorting.\n",
    "\n",
    "Always O(n²): Even if the list is already sorted, it does the same amount of work.\n",
    "\n",
    ":Less efficient than insertion sort for partially sorted lists."
   ]
  }
 ],
 "metadata": {
  "kernelspec": {
   "display_name": "Python 3",
   "language": "python",
   "name": "python3"
  },
  "language_info": {
   "codemirror_mode": {
    "name": "ipython",
    "version": 3
   },
   "file_extension": ".py",
   "mimetype": "text/x-python",
   "name": "python",
   "nbconvert_exporter": "python",
   "pygments_lexer": "ipython3",
   "version": "3.13.0"
  }
 },
 "nbformat": 4,
 "nbformat_minor": 5
}
